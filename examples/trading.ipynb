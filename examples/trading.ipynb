{
 "cells": [
  {
   "cell_type": "markdown",
   "metadata": {},
   "source": [
    "# Pairs Trading example"
   ]
  },
  {
   "cell_type": "markdown",
   "metadata": {},
   "source": [
    "In this Jupyter Notebook, we present a proof-of-concept demonstrating the capabilities of the library. \n",
    "\n",
    "Specifically, we implement a simple pair trading algorithm that fetches data and trades on the Bybit testnet. The algorithm identifies pairs of cryptocurrencies with the highest cointegration coefficient, a widely used metric in pairs trading. These pairs are expected to exhibit a long-term price relationship. The strategy exploits short-term price deviations by shorting the overpriced asset and longing the underpriced one whenever their price difference diverges significantly from the spread's moving average."
   ]
  },
  {
   "cell_type": "code",
   "execution_count": 1,
   "metadata": {},
   "outputs": [],
   "source": [
    "from read_api_keys import read_api_keys\n",
    "import itertools\n",
    "import numpy as np\n",
    "import pandas as pd\n",
    "import time\n",
    "import sys\n",
    "sys.path.append('../')\n",
    "from pybit_ms.bybit_client import BybitAPI"
   ]
  },
  {
   "cell_type": "markdown",
   "metadata": {},
   "source": [
    "We first import the api keys and we initialize the bybit client."
   ]
  },
  {
   "cell_type": "code",
   "execution_count": 2,
   "metadata": {},
   "outputs": [
    {
     "data": {
      "text/plain": [
       "BybitAPI(testnet=1)"
      ]
     },
     "execution_count": 2,
     "metadata": {},
     "output_type": "execute_result"
    }
   ],
   "source": [
    "keys = read_api_keys(\"TAK.txt\")\n",
    "public_key = keys.get('PUBLIC_KEY')\n",
    "private_key = keys.get('PRIVATE_KEY')\n",
    "\n",
    "client = BybitAPI(api_key=public_key, api_secret=private_key, testnet=1)\n",
    "client"
   ]
  },
  {
   "cell_type": "markdown",
   "metadata": {},
   "source": [
    "We then create the coin list in which we will search for cointegrated pairs of cryptocurrencies. We fetch the prices up to 30 days ago, and we also preprocess them normalizing them."
   ]
  },
  {
   "cell_type": "code",
   "execution_count": 3,
   "metadata": {},
   "outputs": [
    {
     "data": {
      "text/html": [
       "<div>\n",
       "<style scoped>\n",
       "    .dataframe tbody tr th:only-of-type {\n",
       "        vertical-align: middle;\n",
       "    }\n",
       "\n",
       "    .dataframe tbody tr th {\n",
       "        vertical-align: top;\n",
       "    }\n",
       "\n",
       "    .dataframe thead th {\n",
       "        text-align: right;\n",
       "    }\n",
       "</style>\n",
       "<table border=\"1\" class=\"dataframe\">\n",
       "  <thead>\n",
       "    <tr style=\"text-align: right;\">\n",
       "      <th></th>\n",
       "      <th>BTC</th>\n",
       "      <th>ETH</th>\n",
       "      <th>BNB</th>\n",
       "      <th>SOL</th>\n",
       "      <th>XRP</th>\n",
       "      <th>DOGE</th>\n",
       "      <th>ADA</th>\n",
       "      <th>LINK</th>\n",
       "      <th>DOT</th>\n",
       "      <th>TRX</th>\n",
       "    </tr>\n",
       "  </thead>\n",
       "  <tbody>\n",
       "    <tr>\n",
       "      <th>0</th>\n",
       "      <td>83683.899128</td>\n",
       "      <td>3280.128416</td>\n",
       "      <td>694.726044</td>\n",
       "      <td>187.086583</td>\n",
       "      <td>0.065625</td>\n",
       "      <td>-1.144987</td>\n",
       "      <td>-0.828762</td>\n",
       "      <td>19.048641</td>\n",
       "      <td>4.7503</td>\n",
       "      <td>-1.434481</td>\n",
       "    </tr>\n",
       "    <tr>\n",
       "      <th>1</th>\n",
       "      <td>82999.999128</td>\n",
       "      <td>3210.268416</td>\n",
       "      <td>667.226044</td>\n",
       "      <td>184.056583</td>\n",
       "      <td>0.160125</td>\n",
       "      <td>-1.138317</td>\n",
       "      <td>-0.725662</td>\n",
       "      <td>18.693641</td>\n",
       "      <td>4.8483</td>\n",
       "      <td>-1.429671</td>\n",
       "    </tr>\n",
       "    <tr>\n",
       "      <th>2</th>\n",
       "      <td>83604.699128</td>\n",
       "      <td>3276.608416</td>\n",
       "      <td>663.726044</td>\n",
       "      <td>174.906583</td>\n",
       "      <td>0.047025</td>\n",
       "      <td>-1.134987</td>\n",
       "      <td>-0.786562</td>\n",
       "      <td>17.053641</td>\n",
       "      <td>4.7203</td>\n",
       "      <td>-1.419031</td>\n",
       "    </tr>\n",
       "    <tr>\n",
       "      <th>3</th>\n",
       "      <td>85499.999128</td>\n",
       "      <td>3346.468416</td>\n",
       "      <td>676.726044</td>\n",
       "      <td>191.626583</td>\n",
       "      <td>0.218225</td>\n",
       "      <td>-1.148977</td>\n",
       "      <td>-0.697762</td>\n",
       "      <td>18.687641</td>\n",
       "      <td>4.6103</td>\n",
       "      <td>-1.418511</td>\n",
       "    </tr>\n",
       "    <tr>\n",
       "      <th>4</th>\n",
       "      <td>30475.499128</td>\n",
       "      <td>3172.868416</td>\n",
       "      <td>676.726044</td>\n",
       "      <td>187.216583</td>\n",
       "      <td>0.187625</td>\n",
       "      <td>-1.155707</td>\n",
       "      <td>-0.823162</td>\n",
       "      <td>17.098641</td>\n",
       "      <td>5.1553</td>\n",
       "      <td>-1.425111</td>\n",
       "    </tr>\n",
       "    <tr>\n",
       "      <th>...</th>\n",
       "      <td>...</td>\n",
       "      <td>...</td>\n",
       "      <td>...</td>\n",
       "      <td>...</td>\n",
       "      <td>...</td>\n",
       "      <td>...</td>\n",
       "      <td>...</td>\n",
       "      <td>...</td>\n",
       "      <td>...</td>\n",
       "      <td>...</td>\n",
       "    </tr>\n",
       "    <tr>\n",
       "      <th>715</th>\n",
       "      <td>84150.299128</td>\n",
       "      <td>3549.798416</td>\n",
       "      <td>684.226044</td>\n",
       "      <td>220.406583</td>\n",
       "      <td>0.124225</td>\n",
       "      <td>-1.059527</td>\n",
       "      <td>-0.696762</td>\n",
       "      <td>21.409641</td>\n",
       "      <td>6.1923</td>\n",
       "      <td>-1.414901</td>\n",
       "    </tr>\n",
       "    <tr>\n",
       "      <th>716</th>\n",
       "      <td>96167.199128</td>\n",
       "      <td>3488.888416</td>\n",
       "      <td>647.726044</td>\n",
       "      <td>224.696583</td>\n",
       "      <td>0.161225</td>\n",
       "      <td>-1.085137</td>\n",
       "      <td>-0.720662</td>\n",
       "      <td>20.180641</td>\n",
       "      <td>5.8333</td>\n",
       "      <td>-1.417901</td>\n",
       "    </tr>\n",
       "    <tr>\n",
       "      <th>717</th>\n",
       "      <td>74319.999128</td>\n",
       "      <td>3639.148416</td>\n",
       "      <td>654.726044</td>\n",
       "      <td>215.946583</td>\n",
       "      <td>0.185925</td>\n",
       "      <td>-1.068317</td>\n",
       "      <td>-0.723662</td>\n",
       "      <td>18.610641</td>\n",
       "      <td>6.6783</td>\n",
       "      <td>-1.377211</td>\n",
       "    </tr>\n",
       "    <tr>\n",
       "      <th>718</th>\n",
       "      <td>74319.999128</td>\n",
       "      <td>3692.658416</td>\n",
       "      <td>662.226044</td>\n",
       "      <td>207.226583</td>\n",
       "      <td>0.324825</td>\n",
       "      <td>-1.065587</td>\n",
       "      <td>-0.611762</td>\n",
       "      <td>20.556641</td>\n",
       "      <td>6.4113</td>\n",
       "      <td>-1.426621</td>\n",
       "    </tr>\n",
       "    <tr>\n",
       "      <th>719</th>\n",
       "      <td>74330.499128</td>\n",
       "      <td>3559.718416</td>\n",
       "      <td>678.226044</td>\n",
       "      <td>212.676583</td>\n",
       "      <td>0.340225</td>\n",
       "      <td>-1.042357</td>\n",
       "      <td>-0.601462</td>\n",
       "      <td>20.179641</td>\n",
       "      <td>6.7593</td>\n",
       "      <td>-1.393181</td>\n",
       "    </tr>\n",
       "  </tbody>\n",
       "</table>\n",
       "<p>720 rows × 10 columns</p>\n",
       "</div>"
      ],
      "text/plain": [
       "              BTC          ETH         BNB         SOL       XRP      DOGE  \\\n",
       "0    83683.899128  3280.128416  694.726044  187.086583  0.065625 -1.144987   \n",
       "1    82999.999128  3210.268416  667.226044  184.056583  0.160125 -1.138317   \n",
       "2    83604.699128  3276.608416  663.726044  174.906583  0.047025 -1.134987   \n",
       "3    85499.999128  3346.468416  676.726044  191.626583  0.218225 -1.148977   \n",
       "4    30475.499128  3172.868416  676.726044  187.216583  0.187625 -1.155707   \n",
       "..            ...          ...         ...         ...       ...       ...   \n",
       "715  84150.299128  3549.798416  684.226044  220.406583  0.124225 -1.059527   \n",
       "716  96167.199128  3488.888416  647.726044  224.696583  0.161225 -1.085137   \n",
       "717  74319.999128  3639.148416  654.726044  215.946583  0.185925 -1.068317   \n",
       "718  74319.999128  3692.658416  662.226044  207.226583  0.324825 -1.065587   \n",
       "719  74330.499128  3559.718416  678.226044  212.676583  0.340225 -1.042357   \n",
       "\n",
       "          ADA       LINK     DOT       TRX  \n",
       "0   -0.828762  19.048641  4.7503 -1.434481  \n",
       "1   -0.725662  18.693641  4.8483 -1.429671  \n",
       "2   -0.786562  17.053641  4.7203 -1.419031  \n",
       "3   -0.697762  18.687641  4.6103 -1.418511  \n",
       "4   -0.823162  17.098641  5.1553 -1.425111  \n",
       "..        ...        ...     ...       ...  \n",
       "715 -0.696762  21.409641  6.1923 -1.414901  \n",
       "716 -0.720662  20.180641  5.8333 -1.417901  \n",
       "717 -0.723662  18.610641  6.6783 -1.377211  \n",
       "718 -0.611762  20.556641  6.4113 -1.426621  \n",
       "719 -0.601462  20.179641  6.7593 -1.393181  \n",
       "\n",
       "[720 rows x 10 columns]"
      ]
     },
     "execution_count": 3,
     "metadata": {},
     "output_type": "execute_result"
    }
   ],
   "source": [
    "COINS = [\"BTC\", \"ETH\", \"BNB\", \"SOL\", \"XRP\", \"DOGE\", \"ADA\", \"LINK\", \"DOT\", \"TRX\"]\n",
    "COIN_PAIRS = list(itertools.combinations(COINS, 2))\n",
    "\n",
    "data = pd.DataFrame()\n",
    "\n",
    "for coin in COINS:\n",
    "    # Get Kline of previous 30 days with interval of 1 hour\n",
    "    data[f'{coin}'] = client.market.get_kline(category=\"linear\", coin1=coin, coin2=\"USDT\", interval=\"60\", price_type=\"close\", limit=720)\n",
    "    \n",
    "    # Convert prices to float\n",
    "    data[f'{coin}'] = pd.to_numeric(data[f'{coin}'], errors='coerce')\n",
    "    \n",
    "    # Normalize the prices\n",
    "    min_price = data[f'{coin}'].min()\n",
    "    max_price = data[f'{coin}'].max()\n",
    "    data[f'{coin}'] = (data[f'{coin}']) - min_price / (max_price - min_price)\n",
    "    \n",
    "data"
   ]
  },
  {
   "cell_type": "code",
   "execution_count": null,
   "metadata": {},
   "outputs": [],
   "source": [
    "!pip install statsmodels"
   ]
  },
  {
   "cell_type": "markdown",
   "metadata": {},
   "source": [
    "We create functions to find cointegration coefficient and best cointegrated pairs.\n",
    "\n",
    "We then select the top pair that we will use in our trading strategy"
   ]
  },
  {
   "cell_type": "code",
   "execution_count": 4,
   "metadata": {},
   "outputs": [
    {
     "name": "stdout",
     "output_type": "stream",
     "text": [
      "('DOGE-LINK', np.float64(-0.9904469554991913))\n"
     ]
    }
   ],
   "source": [
    "import statsmodels.api as sm\n",
    "from statsmodels.tsa.stattools import adfuller\n",
    "\n",
    "# Calculate cointegration coefficient\n",
    "def calc_adf(data, coin1, coin2):\n",
    "    Y = data[f'{coin1}']\n",
    "    X = data[f'{coin2}']\n",
    "    X = sm.add_constant(X)  \n",
    "    model = sm.OLS(Y, X).fit()\n",
    "    residuals = model.resid\n",
    "    result = adfuller(residuals)[0]\n",
    "    return result\n",
    "\n",
    "# Find pairs with highest cointegration\n",
    "def coint_pairs(data):  \n",
    "    adfs = {}\n",
    "    for pair in COIN_PAIRS:\n",
    "        coin1 = pair[0]\n",
    "        coin2 = pair[1]\n",
    "        adfs[f\"{coin1}-{coin2}\"] = calc_adf(data, coin1, coin2)\n",
    "    adfs = dict(sorted(adfs.items(), key=lambda item: item[1], reverse=True))\n",
    "    return list(adfs.items())\n",
    "\n",
    "top_pair = coint_pairs(data)[:1][0]\n",
    "print(top_pair)\n",
    "coin1 = top_pair[0][:top_pair[0].index('-')]\n",
    "coin2 = top_pair[0][top_pair[0].index('-')+1:]\n"
   ]
  },
  {
   "cell_type": "markdown",
   "metadata": {},
   "source": [
    "We can then check here if we have enough assets for our strategy"
   ]
  },
  {
   "cell_type": "code",
   "execution_count": 5,
   "metadata": {},
   "outputs": [
    {
     "name": "stdout",
     "output_type": "stream",
     "text": [
      "Total equity: $102,275.99\n",
      "BTC: Wallet Balance = 1.000000, USD Value = $92205.37\n",
      "USDT: Wallet Balance = 9978.946318, USD Value = $10070.62\n"
     ]
    }
   ],
   "source": [
    "client.account.get_wallet_balance(accountType=\"UNIFIED\")"
   ]
  },
  {
   "cell_type": "markdown",
   "metadata": {},
   "source": [
    "And we also set our futures leverage for our pairs to 1X (Bybit futures set it automatically to 10X before first usage)\n"
   ]
  },
  {
   "cell_type": "code",
   "execution_count": 12,
   "metadata": {},
   "outputs": [
    {
     "name": "stdout",
     "output_type": "stream",
     "text": [
      "buy_leverage: 1\n",
      "sell_leverage: 1\n",
      "buy_leverage: 1\n",
      "sell_leverage: 1\n"
     ]
    }
   ],
   "source": [
    "client.trade.set_leverage(category=\"linear\", symbol=f\"{coin1}USDT\", buy_leverage=\"1\", sell_leverage=\"1\")\n",
    "client.trade.set_leverage(category=\"linear\", symbol=f\"{coin2}USDT\", buy_leverage=\"1\", sell_leverage=\"1\")"
   ]
  },
  {
   "cell_type": "markdown",
   "metadata": {},
   "source": [
    "## Trading strategy\n",
    "\n",
    "Here we finally begin our simple algorithm"
   ]
  },
  {
   "cell_type": "code",
   "execution_count": null,
   "metadata": {},
   "outputs": [
    {
     "name": "stdout",
     "output_type": "stream",
     "text": [
      "Calculated stats...\n"
     ]
    },
    {
     "ename": "InvalidRequestError",
     "evalue": "ab not enough for new order (ErrCode: 110007) (ErrTime: 21:44:26).\nRequest → POST https://api-testnet.bybit.com/v5/order/create: {\"category\": \"linear\", \"symbol\": \"LINKUSDT\", \"side\": \"Buy\", \"orderType\": \"Market\", \"qty\": \"1000\", \"price\": null, \"timeInForce\": \"IOC\", \"marketUnit\": \"quoteCoin\", \"positionIdx\": null, \"orderLinkId\": null, \"takeProfit\": null, \"stopLoss\": null, \"tpTriggerBy\": null, \"slTriggerBy\": null, \"tpLimitPrice\": null, \"slLimitPrice\": null, \"tpOrderType\": null, \"slOrderType\": null, \"tpslMode\": null}.",
     "output_type": "error",
     "traceback": [
      "\u001b[1;31m---------------------------------------------------------------------------\u001b[0m",
      "\u001b[1;31mInvalidRequestError\u001b[0m                       Traceback (most recent call last)",
      "Cell \u001b[1;32mIn[14], line 71\u001b[0m\n\u001b[0;32m     69\u001b[0m \u001b[38;5;28mprint\u001b[39m(\u001b[38;5;124m\"\u001b[39m\u001b[38;5;124mCalculated stats...\u001b[39m\u001b[38;5;124m\"\u001b[39m)\n\u001b[0;32m     70\u001b[0m client\u001b[38;5;241m.\u001b[39mtrade\u001b[38;5;241m.\u001b[39mplace_futures_order(symbol\u001b[38;5;241m=\u001b[39m\u001b[38;5;124mf\u001b[39m\u001b[38;5;124m\"\u001b[39m\u001b[38;5;132;01m{\u001b[39;00mcoin1\u001b[38;5;132;01m}\u001b[39;00m\u001b[38;5;124mUSDT\u001b[39m\u001b[38;5;124m\"\u001b[39m, side\u001b[38;5;241m=\u001b[39m\u001b[38;5;124m\"\u001b[39m\u001b[38;5;124mSell\u001b[39m\u001b[38;5;124m\"\u001b[39m, order_type\u001b[38;5;241m=\u001b[39m\u001b[38;5;124m\"\u001b[39m\u001b[38;5;124mMarket\u001b[39m\u001b[38;5;124m\"\u001b[39m, qty\u001b[38;5;241m=\u001b[39mq, market_unit\u001b[38;5;241m=\u001b[39m\u001b[38;5;124m\"\u001b[39m\u001b[38;5;124mquoteCoin\u001b[39m\u001b[38;5;124m\"\u001b[39m)\n\u001b[1;32m---> 71\u001b[0m \u001b[43mclient\u001b[49m\u001b[38;5;241;43m.\u001b[39;49m\u001b[43mtrade\u001b[49m\u001b[38;5;241;43m.\u001b[39;49m\u001b[43mplace_futures_order\u001b[49m\u001b[43m(\u001b[49m\u001b[43msymbol\u001b[49m\u001b[38;5;241;43m=\u001b[39;49m\u001b[38;5;124;43mf\u001b[39;49m\u001b[38;5;124;43m\"\u001b[39;49m\u001b[38;5;132;43;01m{\u001b[39;49;00m\u001b[43mcoin2\u001b[49m\u001b[38;5;132;43;01m}\u001b[39;49;00m\u001b[38;5;124;43mUSDT\u001b[39;49m\u001b[38;5;124;43m\"\u001b[39;49m\u001b[43m,\u001b[49m\u001b[43m \u001b[49m\u001b[43mside\u001b[49m\u001b[38;5;241;43m=\u001b[39;49m\u001b[38;5;124;43m\"\u001b[39;49m\u001b[38;5;124;43mBuy\u001b[39;49m\u001b[38;5;124;43m\"\u001b[39;49m\u001b[43m,\u001b[49m\u001b[43m \u001b[49m\u001b[43morder_type\u001b[49m\u001b[38;5;241;43m=\u001b[39;49m\u001b[38;5;124;43m\"\u001b[39;49m\u001b[38;5;124;43mMarket\u001b[39;49m\u001b[38;5;124;43m\"\u001b[39;49m\u001b[43m,\u001b[49m\u001b[43m \u001b[49m\u001b[43mqty\u001b[49m\u001b[38;5;241;43m=\u001b[39;49m\u001b[43mq\u001b[49m\u001b[43m,\u001b[49m\u001b[43m \u001b[49m\u001b[43mmarket_unit\u001b[49m\u001b[38;5;241;43m=\u001b[39;49m\u001b[38;5;124;43m\"\u001b[39;49m\u001b[38;5;124;43mquoteCoin\u001b[39;49m\u001b[38;5;124;43m\"\u001b[39;49m\u001b[43m)\u001b[49m\n\u001b[0;32m     72\u001b[0m client\u001b[38;5;241m.\u001b[39mtrade\u001b[38;5;241m.\u001b[39mget_positions(category\u001b[38;5;241m=\u001b[39m\u001b[38;5;124m\"\u001b[39m\u001b[38;5;124mlinear\u001b[39m\u001b[38;5;124m\"\u001b[39m, settle_coin\u001b[38;5;241m=\u001b[39m\u001b[38;5;124m\"\u001b[39m\u001b[38;5;124mUSDT\u001b[39m\u001b[38;5;124m\"\u001b[39m)\n\u001b[0;32m     73\u001b[0m \u001b[38;5;28mprint\u001b[39m(\u001b[38;5;124m\"\u001b[39m\u001b[38;5;124mWaiting next hour\u001b[39m\u001b[38;5;124m\"\u001b[39m)\n",
      "File \u001b[1;32mc:\\Users\\Samuele\\Desktop\\Bocconi\\4th Year\\Software Engineering\\Project\\pybit_ms\\examples\\..\\pybit_ms\\trade.py:402\u001b[0m, in \u001b[0;36mTrade_client.place_futures_order\u001b[1;34m(self, symbol, side, order_type, qty, price, category, time_in_force, market_unit, position_idx, order_link_id, take_profit, stop_loss, tp_trigger_by, sl_trigger_by, tp_limit_price, sl_limit_price, tp_order_type, sl_order_type, tpsl_mode, raw, **kwargs)\u001b[0m\n\u001b[0;32m    399\u001b[0m kwargs[\u001b[38;5;124m\"\u001b[39m\u001b[38;5;124mtpslMode\u001b[39m\u001b[38;5;124m\"\u001b[39m] \u001b[38;5;241m=\u001b[39m tpsl_mode\n\u001b[0;32m    401\u001b[0m \u001b[38;5;66;03m# Send the request\u001b[39;00m\n\u001b[1;32m--> 402\u001b[0m response \u001b[38;5;241m=\u001b[39m \u001b[38;5;28;43mself\u001b[39;49m\u001b[38;5;241;43m.\u001b[39;49m\u001b[43m_http_manager\u001b[49m\u001b[38;5;241;43m.\u001b[39;49m\u001b[43m_submit_request\u001b[49m\u001b[43m(\u001b[49m\n\u001b[0;32m    403\u001b[0m \u001b[43m    \u001b[49m\u001b[43mmethod\u001b[49m\u001b[38;5;241;43m=\u001b[39;49m\u001b[38;5;124;43m\"\u001b[39;49m\u001b[38;5;124;43mPOST\u001b[39;49m\u001b[38;5;124;43m\"\u001b[39;49m\u001b[43m,\u001b[49m\n\u001b[0;32m    404\u001b[0m \u001b[43m    \u001b[49m\u001b[43mpath\u001b[49m\u001b[38;5;241;43m=\u001b[39;49m\u001b[38;5;124;43mf\u001b[39;49m\u001b[38;5;124;43m\"\u001b[39;49m\u001b[38;5;132;43;01m{\u001b[39;49;00m\u001b[38;5;28;43mself\u001b[39;49m\u001b[38;5;241;43m.\u001b[39;49m\u001b[43mendpoint\u001b[49m\u001b[38;5;132;43;01m}\u001b[39;49;00m\u001b[38;5;132;43;01m{\u001b[39;49;00m\u001b[43mTrade\u001b[49m\u001b[38;5;241;43m.\u001b[39;49m\u001b[43mPLACE_ORDER\u001b[49m\u001b[38;5;132;43;01m}\u001b[39;49;00m\u001b[38;5;124;43m\"\u001b[39;49m\u001b[43m,\u001b[49m\n\u001b[0;32m    405\u001b[0m \u001b[43m    \u001b[49m\u001b[43mquery\u001b[49m\u001b[38;5;241;43m=\u001b[39;49m\u001b[43mkwargs\u001b[49m\u001b[43m,\u001b[49m\n\u001b[0;32m    406\u001b[0m \u001b[43m    \u001b[49m\u001b[43mauth\u001b[49m\u001b[38;5;241;43m=\u001b[39;49m\u001b[38;5;28;43;01mTrue\u001b[39;49;00m\u001b[43m,\u001b[49m\n\u001b[0;32m    407\u001b[0m \u001b[43m\u001b[49m\u001b[43m)\u001b[49m\n\u001b[0;32m    409\u001b[0m \u001b[38;5;66;03m# Return the raw response if requested\u001b[39;00m\n\u001b[0;32m    410\u001b[0m \u001b[38;5;28;01mif\u001b[39;00m raw:\n",
      "File \u001b[1;32mc:\\Users\\Samuele\\Desktop\\Bocconi\\4th Year\\Software Engineering\\Project\\pybit_ms\\examples\\..\\pybit_ms\\_http_manager.py:262\u001b[0m, in \u001b[0;36mHTTPManager._submit_request\u001b[1;34m(self, method, path, query, auth)\u001b[0m\n\u001b[0;32m    260\u001b[0m         \u001b[38;5;28;01mcontinue\u001b[39;00m\n\u001b[0;32m    261\u001b[0m     \u001b[38;5;28;01melse\u001b[39;00m:\n\u001b[1;32m--> 262\u001b[0m         \u001b[38;5;28;01mraise\u001b[39;00m InvalidRequestError(\n\u001b[0;32m    263\u001b[0m             request\u001b[38;5;241m=\u001b[39m\u001b[38;5;124mf\u001b[39m\u001b[38;5;124m\"\u001b[39m\u001b[38;5;132;01m{\u001b[39;00mmethod\u001b[38;5;132;01m}\u001b[39;00m\u001b[38;5;124m \u001b[39m\u001b[38;5;132;01m{\u001b[39;00mpath\u001b[38;5;132;01m}\u001b[39;00m\u001b[38;5;124m: \u001b[39m\u001b[38;5;132;01m{\u001b[39;00mreq_params\u001b[38;5;132;01m}\u001b[39;00m\u001b[38;5;124m\"\u001b[39m,\n\u001b[0;32m    264\u001b[0m             message\u001b[38;5;241m=\u001b[39mret_msg,\n\u001b[0;32m    265\u001b[0m             status_code\u001b[38;5;241m=\u001b[39mret_code,\n\u001b[0;32m    266\u001b[0m             time\u001b[38;5;241m=\u001b[39mdt\u001b[38;5;241m.\u001b[39mnow(timezone\u001b[38;5;241m.\u001b[39mutc)\u001b[38;5;241m.\u001b[39mstrftime(\u001b[38;5;124m\"\u001b[39m\u001b[38;5;124m%\u001b[39m\u001b[38;5;124mH:\u001b[39m\u001b[38;5;124m%\u001b[39m\u001b[38;5;124mM:\u001b[39m\u001b[38;5;124m%\u001b[39m\u001b[38;5;124mS\u001b[39m\u001b[38;5;124m\"\u001b[39m),\n\u001b[0;32m    267\u001b[0m             resp_headers\u001b[38;5;241m=\u001b[39mresp\u001b[38;5;241m.\u001b[39mheaders,\n\u001b[0;32m    268\u001b[0m         )\n\u001b[0;32m    270\u001b[0m \u001b[38;5;28;01mif\u001b[39;00m \u001b[38;5;28mself\u001b[39m\u001b[38;5;241m.\u001b[39mlog_requests:\n\u001b[0;32m    271\u001b[0m     \u001b[38;5;28mself\u001b[39m\u001b[38;5;241m.\u001b[39mlogger\u001b[38;5;241m.\u001b[39mdebug(\u001b[38;5;124mf\u001b[39m\u001b[38;5;124m\"\u001b[39m\u001b[38;5;124mResponse -> \u001b[39m\u001b[38;5;132;01m{\u001b[39;00mdata\u001b[38;5;132;01m}\u001b[39;00m\u001b[38;5;124m\"\u001b[39m)\n",
      "\u001b[1;31mInvalidRequestError\u001b[0m: ab not enough for new order (ErrCode: 110007) (ErrTime: 21:44:26).\nRequest → POST https://api-testnet.bybit.com/v5/order/create: {\"category\": \"linear\", \"symbol\": \"LINKUSDT\", \"side\": \"Buy\", \"orderType\": \"Market\", \"qty\": \"1000\", \"price\": null, \"timeInForce\": \"IOC\", \"marketUnit\": \"quoteCoin\", \"positionIdx\": null, \"orderLinkId\": null, \"takeProfit\": null, \"stopLoss\": null, \"tpTriggerBy\": null, \"slTriggerBy\": null, \"tpLimitPrice\": null, \"slLimitPrice\": null, \"tpOrderType\": null, \"slOrderType\": null, \"tpslMode\": null}."
     ]
    }
   ],
   "source": [
    "# q = 1000\t# quantity in USDT we will trade in each order\n",
    "# open_position=False\t\t# Indicator wheter we have an open position or not\n",
    "\n",
    "# while True:\n",
    "# \t# We first retrieve past five days prices\n",
    "# \tcoin1_past_5days = client.market.get_kline(category=\"linear\", coin1=coin1, coin2=\"USDT\", interval=\"60\", price_type=\"close\", limit=120)\n",
    "# \tcoin2_past_5days = client.market.get_kline(category=\"linear\", coin1=coin2, coin2=\"USDT\", interval=\"60\", price_type=\"close\", limit=120)\n",
    "\t\n",
    "# \t# We convert prices to float\n",
    "# \tcoin1_past_5days = np.array(coin1_past_5days, dtype=float)\n",
    "# \tcoin2_past_5days = np.array(coin2_past_5days, dtype=float)\n",
    "\t\n",
    "# \t# We normalize prices\n",
    "# \tmin_price1 = coin1_past_5days.min()\n",
    "# \tmax_price1 = coin1_past_5days.max()\n",
    "# \tcoin1_past_5days = (coin1_past_5days - min_price1) / (max_price1 - min_price1)\n",
    "\t\n",
    "# \tmin_price2 = coin2_past_5days.min()\n",
    "# \tmax_price2 = coin2_past_5days.max()\n",
    "# \tcoin2_past_5days = (coin2_past_5days - min_price2) / (max_price2 - min_price2)\n",
    "\t\n",
    "# \t# We calculate statistics we will use to trigger our stop orders\n",
    "# \tspread = coin2_past_5days - coin1_past_5days\n",
    "# \tspread_mean = spread.mean()\n",
    "# \tspread_std = spread.std()\n",
    "\t\n",
    "# \t# We calculate bollinger bands to trigger our orders\n",
    "# \tup_band = spread_mean + 2 * spread_std\n",
    "# \tlow_band = spread_mean - 2 * spread_std\n",
    "\n",
    "# \tprint(\"Calculated stats...\")\n",
    "\n",
    "\n",
    "# \t# ----------------------------------------------------------------------------------\n",
    "# \t# -------------------------------------Strategy-------------------------------------\n",
    "# \t# ----------------------------------------------------------------------------------\n",
    "\n",
    "# \tif spread[-1] < low_band and not open_position:\n",
    "# \t\t# Open short position on coin1\n",
    "# \t\tclient.trade.place_futures_order(symbol=f\"{coin1}USDT\", side=\"Sell\", order_type=\"Market\", qty=q, market_unit=\"quoteCoin\")\n",
    "# \t\t# Open long position on coin2\n",
    "# \t\tclient.trade.place_futures_order(symbol=f\"{coin2}USDT\", side=\"Buy\", order_type=\"Market\", qty=q, market_unit=\"quoteCoin\")\n",
    "# \t\topen_position = True\n",
    "\t\t\n",
    "# \tif spread[-1] > up_band and not open_position:\n",
    "# \t\t# Open long position on coin1\n",
    "# \t\tclient.trade.place_futures_order(symbol=f\"{coin1}USDT\", side=\"Buy\", order_type=\"Market\", qty=q, market_unit=\"quoteCoin\")\n",
    "# \t\t# Open short position on coin2\n",
    "# \t\tclient.trade.place_futures_order(symbol=f\"{coin2}USDT\", side=\"Sell\", order_type=\"Market\", qty=q, market_unit=\"quoteCoin\")\n",
    "# \t\topen_position = True\n",
    "\n",
    "# \tif spread[-2] > spread_mean and spread[-1] < spread_mean and open_position:\n",
    "# \t\t# Close both positions\n",
    "# \t\tclient.trade.close_order(symbol=f\"{coin1}USDT\", side=\"Sell\", order_type=\"Market\", qty=q, market_unit=\"quoteCoin\")\n",
    "# \t\tclient.trade.close_order(symbol=f\"{coin2}USDT\", side=\"Buy\", order_type=\"Market\", qty=q, market_unit=\"quoteCoin\")\n",
    "# \t\topen_position = False\n",
    "\t\n",
    "# \tif spread[-2] < spread_mean and spread[-1] > spread_mean  and open_position:\n",
    "# \t\t# Close both positions\n",
    "# \t\tclient.trade.close_order(symbol=f\"{coin1}USDT\", side=\"Buy\", order_type=\"Market\", qty=q, market_unit=\"quoteCoin\")\n",
    "# \t\tclient.trade.close_order(symbol=f\"{coin2}USDT\", side=\"Sell\", order_type=\"Market\", qty=q, market_unit=\"quoteCoin\")\n",
    "# \t\topen_position = False\n",
    "\n",
    "# \t# display open positions\n",
    "# \tclient.trade.get_positions(category=\"linear\", settle_coin=\"USDT\")\n",
    "# \tprint(\"Waiting next hour\")\n",
    "# \ttime.sleep(3600)\n",
    "q = 1000\n",
    "print(\"Calculated stats...\")\n",
    "# client.trade.place_futures_order(symbol=f\"{coin1}USDT\", side=\"Sell\", order_type=\"Market\", qty=q, market_unit=\"quoteCoin\")\n",
    "# client.trade.place_futures_order(symbol=f\"{coin2}USDT\", side=\"Buy\", order_type=\"Market\", qty=q, market_unit=\"quoteCoin\")\n",
    "client.trade.get_positions(category=\"linear\", settle_coin=\"USDT\")\n",
    "print(\"Waiting next hour\")"
   ]
  },
  {
   "cell_type": "code",
   "execution_count": 5,
   "metadata": {},
   "outputs": [
    {
     "data": {
      "text/plain": [
       "[]"
      ]
     },
     "execution_count": 5,
     "metadata": {},
     "output_type": "execute_result"
    }
   ],
   "source": [
    "client.trade.cancel_all_orders(category=\"linear\", settle_coin=\"USDT\")"
   ]
  },
  {
   "cell_type": "code",
   "execution_count": 6,
   "metadata": {},
   "outputs": [
    {
     "data": {
      "text/html": [
       "<style type=\"text/css\">\n",
       "#T_cce58 caption {\n",
       "  color: white;\n",
       "  font-size: 16px;\n",
       "  font-weight: bold;\n",
       "  text-align: center;\n",
       "  caption-side: top;\n",
       "}\n",
       "#T_cce58_row0_col0, #T_cce58_row0_col1, #T_cce58_row0_col2, #T_cce58_row0_col3, #T_cce58_row0_col4, #T_cce58_row0_col5, #T_cce58_row0_col6, #T_cce58_row0_col7, #T_cce58_row0_col8, #T_cce58_row0_col9, #T_cce58_row0_col10, #T_cce58_row0_col11, #T_cce58_row0_col12 {\n",
       "  background-color: black;\n",
       "  text-align: right;\n",
       "}\n",
       "</style>\n",
       "<table id=\"T_cce58\" style=\"font-size: 12px; border: 2px solid black;\">\n",
       "  <caption>Closed P&L</caption>\n",
       "  <thead>\n",
       "    <tr>\n",
       "      <th class=\"blank level0\" >&nbsp;</th>\n",
       "      <th id=\"T_cce58_level0_col0\" class=\"col_heading level0 col0\" >symbol</th>\n",
       "      <th id=\"T_cce58_level0_col1\" class=\"col_heading level0 col1\" >orderType</th>\n",
       "      <th id=\"T_cce58_level0_col2\" class=\"col_heading level0 col2\" >side</th>\n",
       "      <th id=\"T_cce58_level0_col3\" class=\"col_heading level0 col3\" >leverage</th>\n",
       "      <th id=\"T_cce58_level0_col4\" class=\"col_heading level0 col4\" >orderPrice</th>\n",
       "      <th id=\"T_cce58_level0_col5\" class=\"col_heading level0 col5\" >avgEntryPrice</th>\n",
       "      <th id=\"T_cce58_level0_col6\" class=\"col_heading level0 col6\" >avgExitPrice</th>\n",
       "      <th id=\"T_cce58_level0_col7\" class=\"col_heading level0 col7\" >qty</th>\n",
       "      <th id=\"T_cce58_level0_col8\" class=\"col_heading level0 col8\" >closedSize</th>\n",
       "      <th id=\"T_cce58_level0_col9\" class=\"col_heading level0 col9\" >closedPnl</th>\n",
       "      <th id=\"T_cce58_level0_col10\" class=\"col_heading level0 col10\" >fillCount</th>\n",
       "      <th id=\"T_cce58_level0_col11\" class=\"col_heading level0 col11\" >orderId</th>\n",
       "      <th id=\"T_cce58_level0_col12\" class=\"col_heading level0 col12\" >createdTime</th>\n",
       "    </tr>\n",
       "  </thead>\n",
       "  <tbody>\n",
       "    <tr>\n",
       "      <th id=\"T_cce58_level0_row0\" class=\"row_heading level0 row0\" >0</th>\n",
       "      <td id=\"T_cce58_row0_col0\" class=\"data row0 col0\" >BTCUSDT</td>\n",
       "      <td id=\"T_cce58_row0_col1\" class=\"data row0 col1\" >Trade (Market)</td>\n",
       "      <td id=\"T_cce58_row0_col2\" class=\"data row0 col2\" >Buy</td>\n",
       "      <td id=\"T_cce58_row0_col3\" class=\"data row0 col3\" >10</td>\n",
       "      <td id=\"T_cce58_row0_col4\" class=\"data row0 col4\" >84538.1</td>\n",
       "      <td id=\"T_cce58_row0_col5\" class=\"data row0 col5\" >83075.38</td>\n",
       "      <td id=\"T_cce58_row0_col6\" class=\"data row0 col6\" >82528.1</td>\n",
       "      <td id=\"T_cce58_row0_col7\" class=\"data row0 col7\" >0.05</td>\n",
       "      <td id=\"T_cce58_row0_col8\" class=\"data row0 col8\" >0.05</td>\n",
       "      <td id=\"T_cce58_row0_col9\" class=\"data row0 col9\" >7.17628741</td>\n",
       "      <td id=\"T_cce58_row0_col10\" class=\"data row0 col10\" >1</td>\n",
       "      <td id=\"T_cce58_row0_col11\" class=\"data row0 col11\" >id: 69b9ef3a-a644-4cba-b02e-c29cdeb665b0</td>\n",
       "      <td id=\"T_cce58_row0_col12\" class=\"data row0 col12\" >2025-01-09 00:02:55</td>\n",
       "    </tr>\n",
       "  </tbody>\n",
       "</table>\n"
      ]
     },
     "metadata": {},
     "output_type": "display_data"
    }
   ],
   "source": [
    "client.trade.get_closed_pnl(category=\"linear\")"
   ]
  }
 ],
 "metadata": {
  "kernelspec": {
   "display_name": "Python 3",
   "language": "python",
   "name": "python3"
  },
  "language_info": {
   "codemirror_mode": {
    "name": "ipython",
    "version": 3
   },
   "file_extension": ".py",
   "mimetype": "text/x-python",
   "name": "python",
   "nbconvert_exporter": "python",
   "pygments_lexer": "ipython3",
   "version": "3.12.4"
  }
 },
 "nbformat": 4,
 "nbformat_minor": 2
}
