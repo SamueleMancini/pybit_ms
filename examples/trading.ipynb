{
 "cells": [
  {
   "cell_type": "markdown",
   "metadata": {},
   "source": [
    "# Pairs Trading example"
   ]
  },
  {
   "cell_type": "markdown",
   "metadata": {},
   "source": [
    "In this Jupyter Notebook, we present a proof-of-concept demonstrating the capabilities of the library. \n",
    "\n",
    "Specifically, we implement a simple pair trading algorithm that fetches data and trades on the Bybit testnet. The algorithm identifies pairs of cryptocurrencies with the highest cointegration coefficient, a widely used metric in pairs trading. These pairs are expected to exhibit a long-term price relationship. The strategy exploits short-term price deviations by shorting the overpriced asset and longing the underpriced one whenever their price difference diverges significantly from the spread's moving average."
   ]
  },
  {
   "cell_type": "code",
   "execution_count": 1,
   "metadata": {},
   "outputs": [],
   "source": [
    "from read_api_keys import read_api_keys\n",
    "import itertools\n",
    "import numpy as np\n",
    "import pandas as pd\n",
    "import time\n",
    "import sys\n",
    "sys.path.append('../')\n",
    "from pybit_ms.bybit_client import BybitAPI"
   ]
  },
  {
   "cell_type": "markdown",
   "metadata": {},
   "source": [
    "We first import the api keys and we initialize the bybit client."
   ]
  },
  {
   "cell_type": "code",
   "execution_count": 2,
   "metadata": {},
   "outputs": [
    {
     "data": {
      "text/plain": [
       "BybitAPI(testnet=1)"
      ]
     },
     "execution_count": 2,
     "metadata": {},
     "output_type": "execute_result"
    }
   ],
   "source": [
    "keys = read_api_keys(\"TAK.txt\")\n",
    "public_key = keys.get('PUBLIC_KEY')\n",
    "private_key = keys.get('PRIVATE_KEY')\n",
    "\n",
    "client = BybitAPI(api_key=public_key, api_secret=private_key, testnet=1)\n",
    "client"
   ]
  },
  {
   "cell_type": "markdown",
   "metadata": {},
   "source": [
    "We then create the coin list in which we will search for cointegrated pairs of cryptocurrencies. We fetch the prices up to 30 days ago, and we also preprocess them normalizing them."
   ]
  },
  {
   "cell_type": "code",
   "execution_count": 3,
   "metadata": {},
   "outputs": [
    {
     "data": {
      "text/html": [
       "<div>\n",
       "<style scoped>\n",
       "    .dataframe tbody tr th:only-of-type {\n",
       "        vertical-align: middle;\n",
       "    }\n",
       "\n",
       "    .dataframe tbody tr th {\n",
       "        vertical-align: top;\n",
       "    }\n",
       "\n",
       "    .dataframe thead th {\n",
       "        text-align: right;\n",
       "    }\n",
       "</style>\n",
       "<table border=\"1\" class=\"dataframe\">\n",
       "  <thead>\n",
       "    <tr style=\"text-align: right;\">\n",
       "      <th></th>\n",
       "      <th>BTC</th>\n",
       "      <th>ETH</th>\n",
       "      <th>BNB</th>\n",
       "      <th>SOL</th>\n",
       "      <th>XRP</th>\n",
       "      <th>DOGE</th>\n",
       "      <th>ADA</th>\n",
       "      <th>LINK</th>\n",
       "      <th>DOT</th>\n",
       "      <th>TRX</th>\n",
       "    </tr>\n",
       "  </thead>\n",
       "  <tbody>\n",
       "    <tr>\n",
       "      <th>0</th>\n",
       "      <td>83880.899128</td>\n",
       "      <td>3235.078416</td>\n",
       "      <td>691.726044</td>\n",
       "      <td>173.626583</td>\n",
       "      <td>0.309125</td>\n",
       "      <td>-1.134987</td>\n",
       "      <td>-0.746262</td>\n",
       "      <td>17.459641</td>\n",
       "      <td>4.7843</td>\n",
       "      <td>-1.417231</td>\n",
       "    </tr>\n",
       "    <tr>\n",
       "      <th>1</th>\n",
       "      <td>83880.899128</td>\n",
       "      <td>3269.358416</td>\n",
       "      <td>663.226044</td>\n",
       "      <td>187.216583</td>\n",
       "      <td>-0.024275</td>\n",
       "      <td>-1.144987</td>\n",
       "      <td>-0.823562</td>\n",
       "      <td>18.268641</td>\n",
       "      <td>4.9813</td>\n",
       "      <td>-1.430501</td>\n",
       "    </tr>\n",
       "    <tr>\n",
       "      <th>2</th>\n",
       "      <td>82999.999128</td>\n",
       "      <td>3210.268416</td>\n",
       "      <td>667.226044</td>\n",
       "      <td>184.056583</td>\n",
       "      <td>0.160125</td>\n",
       "      <td>-1.138317</td>\n",
       "      <td>-0.725662</td>\n",
       "      <td>18.693641</td>\n",
       "      <td>4.8483</td>\n",
       "      <td>-1.429671</td>\n",
       "    </tr>\n",
       "    <tr>\n",
       "      <th>3</th>\n",
       "      <td>83604.699128</td>\n",
       "      <td>3276.608416</td>\n",
       "      <td>663.726044</td>\n",
       "      <td>174.906583</td>\n",
       "      <td>0.047025</td>\n",
       "      <td>-1.134987</td>\n",
       "      <td>-0.786562</td>\n",
       "      <td>17.053641</td>\n",
       "      <td>4.7203</td>\n",
       "      <td>-1.419031</td>\n",
       "    </tr>\n",
       "    <tr>\n",
       "      <th>4</th>\n",
       "      <td>85499.999128</td>\n",
       "      <td>3346.468416</td>\n",
       "      <td>676.726044</td>\n",
       "      <td>191.626583</td>\n",
       "      <td>0.218225</td>\n",
       "      <td>-1.148977</td>\n",
       "      <td>-0.697762</td>\n",
       "      <td>18.687641</td>\n",
       "      <td>4.6103</td>\n",
       "      <td>-1.418511</td>\n",
       "    </tr>\n",
       "    <tr>\n",
       "      <th>...</th>\n",
       "      <td>...</td>\n",
       "      <td>...</td>\n",
       "      <td>...</td>\n",
       "      <td>...</td>\n",
       "      <td>...</td>\n",
       "      <td>...</td>\n",
       "      <td>...</td>\n",
       "      <td>...</td>\n",
       "      <td>...</td>\n",
       "      <td>...</td>\n",
       "    </tr>\n",
       "    <tr>\n",
       "      <th>715</th>\n",
       "      <td>84255.299128</td>\n",
       "      <td>3624.128416</td>\n",
       "      <td>656.226044</td>\n",
       "      <td>209.076583</td>\n",
       "      <td>0.201325</td>\n",
       "      <td>-1.067397</td>\n",
       "      <td>-0.675862</td>\n",
       "      <td>20.996641</td>\n",
       "      <td>7.0773</td>\n",
       "      <td>-1.411801</td>\n",
       "    </tr>\n",
       "    <tr>\n",
       "      <th>716</th>\n",
       "      <td>84150.299128</td>\n",
       "      <td>3549.798416</td>\n",
       "      <td>684.226044</td>\n",
       "      <td>220.406583</td>\n",
       "      <td>0.124225</td>\n",
       "      <td>-1.059527</td>\n",
       "      <td>-0.696762</td>\n",
       "      <td>21.409641</td>\n",
       "      <td>6.1923</td>\n",
       "      <td>-1.414901</td>\n",
       "    </tr>\n",
       "    <tr>\n",
       "      <th>717</th>\n",
       "      <td>96167.199128</td>\n",
       "      <td>3488.888416</td>\n",
       "      <td>647.726044</td>\n",
       "      <td>224.696583</td>\n",
       "      <td>0.161225</td>\n",
       "      <td>-1.085137</td>\n",
       "      <td>-0.720662</td>\n",
       "      <td>20.180641</td>\n",
       "      <td>5.8333</td>\n",
       "      <td>-1.417901</td>\n",
       "    </tr>\n",
       "    <tr>\n",
       "      <th>718</th>\n",
       "      <td>74319.999128</td>\n",
       "      <td>3639.148416</td>\n",
       "      <td>654.726044</td>\n",
       "      <td>215.946583</td>\n",
       "      <td>0.185925</td>\n",
       "      <td>-1.068317</td>\n",
       "      <td>-0.723662</td>\n",
       "      <td>18.610641</td>\n",
       "      <td>6.6783</td>\n",
       "      <td>-1.377211</td>\n",
       "    </tr>\n",
       "    <tr>\n",
       "      <th>719</th>\n",
       "      <td>74319.999128</td>\n",
       "      <td>3692.658416</td>\n",
       "      <td>662.226044</td>\n",
       "      <td>207.226583</td>\n",
       "      <td>0.324825</td>\n",
       "      <td>-1.065587</td>\n",
       "      <td>-0.611762</td>\n",
       "      <td>20.556641</td>\n",
       "      <td>6.4113</td>\n",
       "      <td>-1.426621</td>\n",
       "    </tr>\n",
       "  </tbody>\n",
       "</table>\n",
       "<p>720 rows × 10 columns</p>\n",
       "</div>"
      ],
      "text/plain": [
       "              BTC          ETH         BNB         SOL       XRP      DOGE  \\\n",
       "0    83880.899128  3235.078416  691.726044  173.626583  0.309125 -1.134987   \n",
       "1    83880.899128  3269.358416  663.226044  187.216583 -0.024275 -1.144987   \n",
       "2    82999.999128  3210.268416  667.226044  184.056583  0.160125 -1.138317   \n",
       "3    83604.699128  3276.608416  663.726044  174.906583  0.047025 -1.134987   \n",
       "4    85499.999128  3346.468416  676.726044  191.626583  0.218225 -1.148977   \n",
       "..            ...          ...         ...         ...       ...       ...   \n",
       "715  84255.299128  3624.128416  656.226044  209.076583  0.201325 -1.067397   \n",
       "716  84150.299128  3549.798416  684.226044  220.406583  0.124225 -1.059527   \n",
       "717  96167.199128  3488.888416  647.726044  224.696583  0.161225 -1.085137   \n",
       "718  74319.999128  3639.148416  654.726044  215.946583  0.185925 -1.068317   \n",
       "719  74319.999128  3692.658416  662.226044  207.226583  0.324825 -1.065587   \n",
       "\n",
       "          ADA       LINK     DOT       TRX  \n",
       "0   -0.746262  17.459641  4.7843 -1.417231  \n",
       "1   -0.823562  18.268641  4.9813 -1.430501  \n",
       "2   -0.725662  18.693641  4.8483 -1.429671  \n",
       "3   -0.786562  17.053641  4.7203 -1.419031  \n",
       "4   -0.697762  18.687641  4.6103 -1.418511  \n",
       "..        ...        ...     ...       ...  \n",
       "715 -0.675862  20.996641  7.0773 -1.411801  \n",
       "716 -0.696762  21.409641  6.1923 -1.414901  \n",
       "717 -0.720662  20.180641  5.8333 -1.417901  \n",
       "718 -0.723662  18.610641  6.6783 -1.377211  \n",
       "719 -0.611762  20.556641  6.4113 -1.426621  \n",
       "\n",
       "[720 rows x 10 columns]"
      ]
     },
     "execution_count": 3,
     "metadata": {},
     "output_type": "execute_result"
    }
   ],
   "source": [
    "COINS = [\"BTC\", \"ETH\", \"BNB\", \"SOL\", \"XRP\", \"DOGE\", \"ADA\", \"LINK\", \"DOT\", \"TRX\"]\n",
    "COIN_PAIRS = list(itertools.combinations(COINS, 2))\n",
    "\n",
    "data = pd.DataFrame()\n",
    "\n",
    "for coin in COINS:\n",
    "    # Get Kline of previous 30 days with interval of 1 hour\n",
    "    data[f'{coin}'] = client.market.get_kline(category=\"linear\", coin1=coin, coin2=\"USDT\", interval=\"60\", price_type=\"close\", limit=720)\n",
    "    \n",
    "    # Convert prices to float\n",
    "    data[f'{coin}'] = pd.to_numeric(data[f'{coin}'], errors='coerce')\n",
    "    \n",
    "    # Normalize the prices\n",
    "    min_price = data[f'{coin}'].min()\n",
    "    max_price = data[f'{coin}'].max()\n",
    "    data[f'{coin}'] = (data[f'{coin}']) - min_price / (max_price - min_price)\n",
    "    \n",
    "data"
   ]
  },
  {
   "cell_type": "code",
   "execution_count": null,
   "metadata": {},
   "outputs": [],
   "source": [
    "!pip install statsmodels"
   ]
  },
  {
   "cell_type": "markdown",
   "metadata": {},
   "source": [
    "We create functions to find cointegration coefficient and best cointegrated pairs.\n",
    "\n",
    "We then select the top pair that we will use in our trading strategy"
   ]
  },
  {
   "cell_type": "code",
   "execution_count": 4,
   "metadata": {},
   "outputs": [
    {
     "name": "stdout",
     "output_type": "stream",
     "text": [
      "('SOL-LINK', np.float64(-1.1192399608128005))\n"
     ]
    }
   ],
   "source": [
    "import statsmodels.api as sm\n",
    "from statsmodels.tsa.stattools import adfuller\n",
    "\n",
    "# Calculate cointegration coefficient\n",
    "def calc_adf(data, coin1, coin2):\n",
    "    Y = data[f'{coin1}']\n",
    "    X = data[f'{coin2}']\n",
    "    X = sm.add_constant(X)  \n",
    "    model = sm.OLS(Y, X).fit()\n",
    "    residuals = model.resid\n",
    "    result = adfuller(residuals)[0]\n",
    "    return result\n",
    "\n",
    "# Find pairs with highest cointegration\n",
    "def coint_pairs(data):  \n",
    "    adfs = {}\n",
    "    for pair in COIN_PAIRS:\n",
    "        coin1 = pair[0]\n",
    "        coin2 = pair[1]\n",
    "        adfs[f\"{coin1}-{coin2}\"] = calc_adf(data, coin1, coin2)\n",
    "    adfs = dict(sorted(adfs.items(), key=lambda item: item[1], reverse=True))\n",
    "    return list(adfs.items())\n",
    "\n",
    "top_pair = coint_pairs(data)[:1][0]\n",
    "print(top_pair)\n",
    "coin1 = top_pair[0][:top_pair[0].index('-')]\n",
    "coin2 = top_pair[0][top_pair[0].index('-')+1:]\n"
   ]
  },
  {
   "cell_type": "markdown",
   "metadata": {},
   "source": [
    "We can then check here if we have enough assets for our strategy"
   ]
  },
  {
   "cell_type": "code",
   "execution_count": 5,
   "metadata": {},
   "outputs": [
    {
     "name": "stdout",
     "output_type": "stream",
     "text": [
      "Total equity: $97,908.43\n",
      "USDT: Wallet Balance = 97907.253995, USD Value = $97908.43\n"
     ]
    }
   ],
   "source": [
    "client.account.get_wallet_balance(accountType=\"UNIFIED\")"
   ]
  },
  {
   "cell_type": "markdown",
   "metadata": {},
   "source": [
    "And we also set our futures leverage for our pairs to 1X (Bybit futures set it automatically to 10X before first usage)\n"
   ]
  },
  {
   "cell_type": "code",
   "execution_count": 8,
   "metadata": {},
   "outputs": [
    {
     "name": "stdout",
     "output_type": "stream",
     "text": [
      "buy_leverage: 1\n",
      "sell_leverage: 1\n",
      "buy_leverage: 1\n",
      "sell_leverage: 1\n"
     ]
    }
   ],
   "source": [
    "client.trade.set_leverage(category=\"linear\", symbol=f\"{coin1}USDT\", buy_leverage=\"1\", sell_leverage=\"1\")\n",
    "client.trade.set_leverage(category=\"linear\", symbol=f\"{coin2}USDT\", buy_leverage=\"1\", sell_leverage=\"1\")"
   ]
  },
  {
   "cell_type": "markdown",
   "metadata": {},
   "source": [
    "## Trading strategy\n",
    "\n",
    "Here we finally begin our simple algorithm"
   ]
  },
  {
   "cell_type": "code",
   "execution_count": 16,
   "metadata": {},
   "outputs": [
    {
     "name": "stdout",
     "output_type": "stream",
     "text": [
      "Calculated stats...\n"
     ]
    },
    {
     "data": {
      "text/html": [
       "<style type=\"text/css\">\n",
       "#T_f1e3f caption {\n",
       "  color: white;\n",
       "  font-size: 16px;\n",
       "  font-weight: bold;\n",
       "  text-align: center;\n",
       "  caption-side: top;\n",
       "}\n",
       "#T_f1e3f_row0_col0, #T_f1e3f_row0_col1, #T_f1e3f_row0_col2, #T_f1e3f_row0_col3, #T_f1e3f_row0_col4, #T_f1e3f_row0_col5, #T_f1e3f_row0_col6, #T_f1e3f_row0_col7, #T_f1e3f_row0_col8, #T_f1e3f_row0_col9, #T_f1e3f_row0_col10, #T_f1e3f_row0_col11, #T_f1e3f_row0_col12, #T_f1e3f_row0_col13, #T_f1e3f_row1_col0, #T_f1e3f_row1_col1, #T_f1e3f_row1_col2, #T_f1e3f_row1_col3, #T_f1e3f_row1_col4, #T_f1e3f_row1_col5, #T_f1e3f_row1_col6, #T_f1e3f_row1_col7, #T_f1e3f_row1_col8, #T_f1e3f_row1_col9, #T_f1e3f_row1_col10, #T_f1e3f_row1_col11, #T_f1e3f_row1_col12, #T_f1e3f_row1_col13 {\n",
       "  background-color: black;\n",
       "  text-align: right;\n",
       "}\n",
       "</style>\n",
       "<table id=\"T_f1e3f\" style=\"font-size: 12px; border: 2px solid black;\">\n",
       "  <caption>Open Positions</caption>\n",
       "  <thead>\n",
       "    <tr>\n",
       "      <th class=\"blank level0\" >&nbsp;</th>\n",
       "      <th id=\"T_f1e3f_level0_col0\" class=\"col_heading level0 col0\" >symbol</th>\n",
       "      <th id=\"T_f1e3f_level0_col1\" class=\"col_heading level0 col1\" >side</th>\n",
       "      <th id=\"T_f1e3f_level0_col2\" class=\"col_heading level0 col2\" >avgPrice</th>\n",
       "      <th id=\"T_f1e3f_level0_col3\" class=\"col_heading level0 col3\" >size</th>\n",
       "      <th id=\"T_f1e3f_level0_col4\" class=\"col_heading level0 col4\" >leverage</th>\n",
       "      <th id=\"T_f1e3f_level0_col5\" class=\"col_heading level0 col5\" >liqPrice</th>\n",
       "      <th id=\"T_f1e3f_level0_col6\" class=\"col_heading level0 col6\" >unrealisedPnl</th>\n",
       "      <th id=\"T_f1e3f_level0_col7\" class=\"col_heading level0 col7\" >curRealisedPnl</th>\n",
       "      <th id=\"T_f1e3f_level0_col8\" class=\"col_heading level0 col8\" >takeProfit</th>\n",
       "      <th id=\"T_f1e3f_level0_col9\" class=\"col_heading level0 col9\" >stopLoss</th>\n",
       "      <th id=\"T_f1e3f_level0_col10\" class=\"col_heading level0 col10\" >positionIM</th>\n",
       "      <th id=\"T_f1e3f_level0_col11\" class=\"col_heading level0 col11\" >currentMargin</th>\n",
       "      <th id=\"T_f1e3f_level0_col12\" class=\"col_heading level0 col12\" >positionMM</th>\n",
       "      <th id=\"T_f1e3f_level0_col13\" class=\"col_heading level0 col13\" >createdTime</th>\n",
       "    </tr>\n",
       "  </thead>\n",
       "  <tbody>\n",
       "    <tr>\n",
       "      <th id=\"T_f1e3f_level0_row0\" class=\"row_heading level0 row0\" >0</th>\n",
       "      <td id=\"T_f1e3f_row0_col0\" class=\"data row0 col0\" >LINKUSDT</td>\n",
       "      <td id=\"T_f1e3f_row0_col1\" class=\"data row0 col1\" >Buy</td>\n",
       "      <td id=\"T_f1e3f_row0_col2\" class=\"data row0 col2\" >19.816</td>\n",
       "      <td id=\"T_f1e3f_row0_col3\" class=\"data row0 col3\" >50</td>\n",
       "      <td id=\"T_f1e3f_row0_col4\" class=\"data row0 col4\" >cross: 1X</td>\n",
       "      <td id=\"T_f1e3f_row0_col5\" class=\"data row0 col5\" ></td>\n",
       "      <td id=\"T_f1e3f_row0_col6\" class=\"data row0 col6\" >0.4</td>\n",
       "      <td id=\"T_f1e3f_row0_col7\" class=\"data row0 col7\" >-0.54494</td>\n",
       "      <td id=\"T_f1e3f_row0_col8\" class=\"data row0 col8\" >-</td>\n",
       "      <td id=\"T_f1e3f_row0_col9\" class=\"data row0 col9\" >-</td>\n",
       "      <td id=\"T_f1e3f_row0_col10\" class=\"data row0 col10\" >990.8</td>\n",
       "      <td id=\"T_f1e3f_row0_col11\" class=\"data row0 col11\" >0</td>\n",
       "      <td id=\"T_f1e3f_row0_col12\" class=\"data row0 col12\" >19.816</td>\n",
       "      <td id=\"T_f1e3f_row0_col13\" class=\"data row0 col13\" >2025-01-09 21:22:33</td>\n",
       "    </tr>\n",
       "    <tr>\n",
       "      <th id=\"T_f1e3f_level0_row1\" class=\"row_heading level0 row1\" >1</th>\n",
       "      <td id=\"T_f1e3f_row1_col0\" class=\"data row1 col0\" >SOLUSDT</td>\n",
       "      <td id=\"T_f1e3f_row1_col1\" class=\"data row1 col1\" >Sell</td>\n",
       "      <td id=\"T_f1e3f_row1_col2\" class=\"data row1 col2\" >192.3073913</td>\n",
       "      <td id=\"T_f1e3f_row1_col3\" class=\"data row1 col3\" >6.9</td>\n",
       "      <td id=\"T_f1e3f_row1_col4\" class=\"data row1 col4\" >cross: 1X</td>\n",
       "      <td id=\"T_f1e3f_row1_col5\" class=\"data row1 col5\" >14353.83372388</td>\n",
       "      <td id=\"T_f1e3f_row1_col6\" class=\"data row1 col6\" >39.0636</td>\n",
       "      <td id=\"T_f1e3f_row1_col7\" class=\"data row1 col7\" >43.81927045</td>\n",
       "      <td id=\"T_f1e3f_row1_col8\" class=\"data row1 col8\" >-</td>\n",
       "      <td id=\"T_f1e3f_row1_col9\" class=\"data row1 col9\" >-</td>\n",
       "      <td id=\"T_f1e3f_row1_col10\" class=\"data row1 col10\" >1328.3806131</td>\n",
       "      <td id=\"T_f1e3f_row1_col11\" class=\"data row1 col11\" >0</td>\n",
       "      <td id=\"T_f1e3f_row1_col12\" class=\"data row1 col12\" >10.0845996</td>\n",
       "      <td id=\"T_f1e3f_row1_col13\" class=\"data row1 col13\" >2025-01-09 22:07:28</td>\n",
       "    </tr>\n",
       "  </tbody>\n",
       "</table>\n"
      ]
     },
     "metadata": {},
     "output_type": "display_data"
    },
    {
     "name": "stdout",
     "output_type": "stream",
     "text": [
      "Waiting next hour\n"
     ]
    }
   ],
   "source": [
    "q = 1000\t# quantity in USDT we will trade in each order\n",
    "open_position=False\t\t# Indicator wheter we have an open position or not\n",
    "\n",
    "while True:\n",
    "\t# We first retrieve past five days prices\n",
    "\tcoin1_past_5days = client.market.get_kline(category=\"linear\", coin1=coin1, coin2=\"USDT\", interval=\"60\", price_type=\"close\", limit=120)\n",
    "\tcoin2_past_5days = client.market.get_kline(category=\"linear\", coin1=coin2, coin2=\"USDT\", interval=\"60\", price_type=\"close\", limit=120)\n",
    "\t\n",
    "\t# We convert prices to float\n",
    "\tcoin1_past_5days = np.array(coin1_past_5days, dtype=float)\n",
    "\tcoin2_past_5days = np.array(coin2_past_5days, dtype=float)\n",
    "\t\n",
    "\t# We normalize prices\n",
    "\tmin_price1 = coin1_past_5days.min()\n",
    "\tmax_price1 = coin1_past_5days.max()\n",
    "\tcoin1_past_5days = (coin1_past_5days - min_price1) / (max_price1 - min_price1)\n",
    "\t\n",
    "\tmin_price2 = coin2_past_5days.min()\n",
    "\tmax_price2 = coin2_past_5days.max()\n",
    "\tcoin2_past_5days = (coin2_past_5days - min_price2) / (max_price2 - min_price2)\n",
    "\t\n",
    "\t# We calculate statistics we will use to trigger our stop orders\n",
    "\tspread = coin2_past_5days - coin1_past_5days\n",
    "\tspread_mean = spread.mean()\n",
    "\tspread_std = spread.std()\n",
    "\t\n",
    "\t# We calculate bollinger bands to trigger our orders\n",
    "\tup_band = spread_mean + 2 * spread_std\n",
    "\tlow_band = spread_mean - 2 * spread_std\n",
    "\n",
    "\tprint(\"Calculated stats...\")\n",
    "\n",
    "\tcoin1_price = client.market.get_tickers(category=\"linear\", symbol=f\"{coin1}USDT\", only_ticker=True)\n",
    "\tcoin2_price = client.market.get_tickers(category=\"linear\", symbol=f\"{coin2}USDT\", only_ticker=True)\n",
    "\tcoin1_qty = q / coin1_price\n",
    "\tcoin2_qty = q / coin2_price\n",
    "\n",
    "\n",
    "\t# ----------------------------------------------------------------------------------\n",
    "\t# -------------------------------------Strategy-------------------------------------\n",
    "\t# ----------------------------------------------------------------------------------\n",
    "\n",
    "\tif spread[-1] < low_band and not open_position:\n",
    "\t\t# Open short position on coin1\n",
    "\t\tclient.trade.place_futures_order(symbol=f\"{coin1}USDT\", side=\"Sell\", order_type=\"Market\", qty=coin1_qty)\n",
    "\t\t# Open long position on coin2\n",
    "\t\tclient.trade.place_futures_order(symbol=f\"{coin2}USDT\", side=\"Buy\", order_type=\"Market\", qty=coin2_qty)\n",
    "\t\topen_position = True\n",
    "\t\t\n",
    "\tif spread[-1] > up_band and not open_position:\n",
    "\t\t# Open long position on coin1\n",
    "\t\tclient.trade.place_futures_order(symbol=f\"{coin1}USDT\", side=\"Buy\", order_type=\"Market\", qty=coin1_qty)\n",
    "\t\t# Open short position on coin2\n",
    "\t\tclient.trade.place_futures_order(symbol=f\"{coin2}USDT\", side=\"Sell\", order_type=\"Market\", qty=coin2_qty)\n",
    "\t\topen_position = True\n",
    "\n",
    "\tif spread[-2] > spread_mean and spread[-1] < spread_mean and open_position:\n",
    "\t\t# Close both positions\n",
    "\t\tclient.trade.close_order(symbol=f\"{coin1}USDT\", side=\"Sell\", order_type=\"Market\", qty=coin1_qty)\n",
    "\t\tclient.trade.close_order(symbol=f\"{coin2}USDT\", side=\"Buy\", order_type=\"Market\", qty=coin2_qty)\n",
    "\t\topen_position = False\n",
    "\t\n",
    "\tif spread[-2] < spread_mean and spread[-1] > spread_mean  and open_position:\n",
    "\t\t# Close both positions\n",
    "\t\tclient.trade.close_order(symbol=f\"{coin1}USDT\", side=\"Buy\", order_type=\"Market\", qty=coin1_qty)\n",
    "\t\tclient.trade.close_order(symbol=f\"{coin2}USDT\", side=\"Sell\", order_type=\"Market\", qty=coin2_qty)\n",
    "\t\topen_position = False\n",
    "\n",
    "\t# display open positions\n",
    "\tclient.trade.get_positions(category=\"linear\", settle_coin=\"USDT\")\n",
    "\tprint(\"Waiting next hour\")\n",
    "\ttime.sleep(3600)\n"
   ]
  },
  {
   "cell_type": "markdown",
   "metadata": {},
   "source": [
    "If we want to stop the above cell we can cancel here all open position"
   ]
  },
  {
   "cell_type": "code",
   "execution_count": null,
   "metadata": {},
   "outputs": [
    {
     "data": {
      "text/plain": [
       "'orderId: 72bc28b0-03b3-4161-9759-982c0d67cc5f'"
      ]
     },
     "execution_count": 14,
     "metadata": {},
     "output_type": "execute_result"
    }
   ],
   "source": [
    "client.trade.close_order(symbol=f\"{coin1}USDT\", order_type=\"Market\", side=\"Buy\", qty=3.1)\n",
    "client.trade.close_order(symbol=f\"{coin2}USDT\", order_type=\"Market\", side=\"Sell\", qty=5)\n"
   ]
  },
  {
   "cell_type": "markdown",
   "metadata": {},
   "source": [
    "And also check our profit and losses"
   ]
  },
  {
   "cell_type": "code",
   "execution_count": 17,
   "metadata": {},
   "outputs": [
    {
     "data": {
      "text/html": [
       "<style type=\"text/css\">\n",
       "#T_fb504 caption {\n",
       "  color: white;\n",
       "  font-size: 16px;\n",
       "  font-weight: bold;\n",
       "  text-align: center;\n",
       "  caption-side: top;\n",
       "}\n",
       "#T_fb504_row0_col0, #T_fb504_row0_col1, #T_fb504_row0_col2, #T_fb504_row0_col3, #T_fb504_row0_col4, #T_fb504_row0_col5, #T_fb504_row0_col6, #T_fb504_row0_col7, #T_fb504_row0_col8, #T_fb504_row0_col9, #T_fb504_row0_col10, #T_fb504_row0_col11, #T_fb504_row0_col12, #T_fb504_row1_col0, #T_fb504_row1_col1, #T_fb504_row1_col2, #T_fb504_row1_col3, #T_fb504_row1_col4, #T_fb504_row1_col5, #T_fb504_row1_col6, #T_fb504_row1_col7, #T_fb504_row1_col8, #T_fb504_row1_col9, #T_fb504_row1_col10, #T_fb504_row1_col11, #T_fb504_row1_col12, #T_fb504_row2_col0, #T_fb504_row2_col1, #T_fb504_row2_col2, #T_fb504_row2_col3, #T_fb504_row2_col4, #T_fb504_row2_col5, #T_fb504_row2_col6, #T_fb504_row2_col7, #T_fb504_row2_col8, #T_fb504_row2_col9, #T_fb504_row2_col10, #T_fb504_row2_col11, #T_fb504_row2_col12, #T_fb504_row3_col0, #T_fb504_row3_col1, #T_fb504_row3_col2, #T_fb504_row3_col3, #T_fb504_row3_col4, #T_fb504_row3_col5, #T_fb504_row3_col6, #T_fb504_row3_col7, #T_fb504_row3_col8, #T_fb504_row3_col9, #T_fb504_row3_col10, #T_fb504_row3_col11, #T_fb504_row3_col12, #T_fb504_row4_col0, #T_fb504_row4_col1, #T_fb504_row4_col2, #T_fb504_row4_col3, #T_fb504_row4_col4, #T_fb504_row4_col5, #T_fb504_row4_col6, #T_fb504_row4_col7, #T_fb504_row4_col8, #T_fb504_row4_col9, #T_fb504_row4_col10, #T_fb504_row4_col11, #T_fb504_row4_col12 {\n",
       "  background-color: black;\n",
       "  text-align: right;\n",
       "}\n",
       "</style>\n",
       "<table id=\"T_fb504\" style=\"font-size: 12px; border: 2px solid black;\">\n",
       "  <caption>Closed P&L</caption>\n",
       "  <thead>\n",
       "    <tr>\n",
       "      <th class=\"blank level0\" >&nbsp;</th>\n",
       "      <th id=\"T_fb504_level0_col0\" class=\"col_heading level0 col0\" >symbol</th>\n",
       "      <th id=\"T_fb504_level0_col1\" class=\"col_heading level0 col1\" >orderType</th>\n",
       "      <th id=\"T_fb504_level0_col2\" class=\"col_heading level0 col2\" >side</th>\n",
       "      <th id=\"T_fb504_level0_col3\" class=\"col_heading level0 col3\" >leverage</th>\n",
       "      <th id=\"T_fb504_level0_col4\" class=\"col_heading level0 col4\" >orderPrice</th>\n",
       "      <th id=\"T_fb504_level0_col5\" class=\"col_heading level0 col5\" >avgEntryPrice</th>\n",
       "      <th id=\"T_fb504_level0_col6\" class=\"col_heading level0 col6\" >avgExitPrice</th>\n",
       "      <th id=\"T_fb504_level0_col7\" class=\"col_heading level0 col7\" >qty</th>\n",
       "      <th id=\"T_fb504_level0_col8\" class=\"col_heading level0 col8\" >closedSize</th>\n",
       "      <th id=\"T_fb504_level0_col9\" class=\"col_heading level0 col9\" >closedPnl</th>\n",
       "      <th id=\"T_fb504_level0_col10\" class=\"col_heading level0 col10\" >fillCount</th>\n",
       "      <th id=\"T_fb504_level0_col11\" class=\"col_heading level0 col11\" >orderId</th>\n",
       "      <th id=\"T_fb504_level0_col12\" class=\"col_heading level0 col12\" >createdTime</th>\n",
       "    </tr>\n",
       "  </thead>\n",
       "  <tbody>\n",
       "    <tr>\n",
       "      <th id=\"T_fb504_level0_row0\" class=\"row_heading level0 row0\" >0</th>\n",
       "      <td id=\"T_fb504_row0_col0\" class=\"data row0 col0\" >LINKUSDT</td>\n",
       "      <td id=\"T_fb504_row0_col1\" class=\"data row0 col1\" >Trade (Market)</td>\n",
       "      <td id=\"T_fb504_row0_col2\" class=\"data row0 col2\" >Sell</td>\n",
       "      <td id=\"T_fb504_row0_col3\" class=\"data row0 col3\" >1</td>\n",
       "      <td id=\"T_fb504_row0_col4\" class=\"data row0 col4\" >18.778</td>\n",
       "      <td id=\"T_fb504_row0_col5\" class=\"data row0 col5\" >20.0331613</td>\n",
       "      <td id=\"T_fb504_row0_col6\" class=\"data row0 col6\" >20.733</td>\n",
       "      <td id=\"T_fb504_row0_col7\" class=\"data row0 col7\" >3.1</td>\n",
       "      <td id=\"T_fb504_row0_col8\" class=\"data row0 col8\" >3.1</td>\n",
       "      <td id=\"T_fb504_row0_col9\" class=\"data row0 col9\" >2.09999366</td>\n",
       "      <td id=\"T_fb504_row0_col10\" class=\"data row0 col10\" >1</td>\n",
       "      <td id=\"T_fb504_row0_col11\" class=\"data row0 col11\" >id: 72bc28b0-03b3-4161-9759-982c0d67cc5f</td>\n",
       "      <td id=\"T_fb504_row0_col12\" class=\"data row0 col12\" >2025-01-09 22:50:07</td>\n",
       "    </tr>\n",
       "    <tr>\n",
       "      <th id=\"T_fb504_level0_row1\" class=\"row_heading level0 row1\" >1</th>\n",
       "      <td id=\"T_fb504_row1_col0\" class=\"data row1 col0\" >SOLUSDT</td>\n",
       "      <td id=\"T_fb504_row1_col1\" class=\"data row1 col1\" >Trade (Market)</td>\n",
       "      <td id=\"T_fb504_row1_col2\" class=\"data row1 col2\" >Buy</td>\n",
       "      <td id=\"T_fb504_row1_col3\" class=\"data row1 col3\" >1</td>\n",
       "      <td id=\"T_fb504_row1_col4\" class=\"data row1 col4\" >195.88</td>\n",
       "      <td id=\"T_fb504_row1_col5\" class=\"data row1 col5\" >197.59</td>\n",
       "      <td id=\"T_fb504_row1_col6\" class=\"data row1 col6\" >183.01</td>\n",
       "      <td id=\"T_fb504_row1_col7\" class=\"data row1 col7\" >3.1</td>\n",
       "      <td id=\"T_fb504_row1_col8\" class=\"data row1 col8\" >3.1</td>\n",
       "      <td id=\"T_fb504_row1_col9\" class=\"data row1 col9\" >44.549077</td>\n",
       "      <td id=\"T_fb504_row1_col10\" class=\"data row1 col10\" >1</td>\n",
       "      <td id=\"T_fb504_row1_col11\" class=\"data row1 col11\" >id: 5a60135f-1c39-41ce-91e0-77db4e4329b6</td>\n",
       "      <td id=\"T_fb504_row1_col12\" class=\"data row1 col12\" >2025-01-09 22:50:07</td>\n",
       "    </tr>\n",
       "    <tr>\n",
       "      <th id=\"T_fb504_level0_row2\" class=\"row_heading level0 row2\" >2</th>\n",
       "      <td id=\"T_fb504_row2_col0\" class=\"data row2 col0\" >DOGEUSDT</td>\n",
       "      <td id=\"T_fb504_row2_col1\" class=\"data row2 col1\" >Trade (Market)</td>\n",
       "      <td id=\"T_fb504_row2_col2\" class=\"data row2 col2\" >Buy</td>\n",
       "      <td id=\"T_fb504_row2_col3\" class=\"data row2 col3\" >1</td>\n",
       "      <td id=\"T_fb504_row2_col4\" class=\"data row2 col4\" >0.3348</td>\n",
       "      <td id=\"T_fb504_row2_col5\" class=\"data row2 col5\" >0.31390398</td>\n",
       "      <td id=\"T_fb504_row2_col6\" class=\"data row2 col6\" >0.32587</td>\n",
       "      <td id=\"T_fb504_row2_col7\" class=\"data row2 col7\" >2034</td>\n",
       "      <td id=\"T_fb504_row2_col8\" class=\"data row2 col8\" >2034</td>\n",
       "      <td id=\"T_fb504_row2_col9\" class=\"data row2 col9\" >-25.05458519</td>\n",
       "      <td id=\"T_fb504_row2_col10\" class=\"data row2 col10\" >1</td>\n",
       "      <td id=\"T_fb504_row2_col11\" class=\"data row2 col11\" >id: af024907-d437-4c72-85a0-d81fb995a64f</td>\n",
       "      <td id=\"T_fb504_row2_col12\" class=\"data row2 col12\" >2025-01-09 22:05:10</td>\n",
       "    </tr>\n",
       "    <tr>\n",
       "      <th id=\"T_fb504_level0_row3\" class=\"row_heading level0 row3\" >3</th>\n",
       "      <td id=\"T_fb504_row3_col0\" class=\"data row3 col0\" >BTCUSDT</td>\n",
       "      <td id=\"T_fb504_row3_col1\" class=\"data row3 col1\" >Trade (Market)</td>\n",
       "      <td id=\"T_fb504_row3_col2\" class=\"data row3 col2\" >Buy</td>\n",
       "      <td id=\"T_fb504_row3_col3\" class=\"data row3 col3\" >2</td>\n",
       "      <td id=\"T_fb504_row3_col4\" class=\"data row3 col4\" >85057.4</td>\n",
       "      <td id=\"T_fb504_row3_col5\" class=\"data row3 col5\" >84934.97</td>\n",
       "      <td id=\"T_fb504_row3_col6\" class=\"data row3 col6\" >83135.924</td>\n",
       "      <td id=\"T_fb504_row3_col7\" class=\"data row3 col7\" >0.05</td>\n",
       "      <td id=\"T_fb504_row3_col8\" class=\"data row3 col8\" >0.05</td>\n",
       "      <td id=\"T_fb504_row3_col9\" class=\"data row3 col9\" >59.44173415</td>\n",
       "      <td id=\"T_fb504_row3_col10\" class=\"data row3 col10\" >5</td>\n",
       "      <td id=\"T_fb504_row3_col11\" class=\"data row3 col11\" >id: 12ca87e7-b8ae-4be7-a73d-3339c63a8d06</td>\n",
       "      <td id=\"T_fb504_row3_col12\" class=\"data row3 col12\" >2025-01-09 22:05:02</td>\n",
       "    </tr>\n",
       "    <tr>\n",
       "      <th id=\"T_fb504_level0_row4\" class=\"row_heading level0 row4\" >4</th>\n",
       "      <td id=\"T_fb504_row4_col0\" class=\"data row4 col0\" >BTCUSDT</td>\n",
       "      <td id=\"T_fb504_row4_col1\" class=\"data row4 col1\" >Trade (Market)</td>\n",
       "      <td id=\"T_fb504_row4_col2\" class=\"data row4 col2\" >Buy</td>\n",
       "      <td id=\"T_fb504_row4_col3\" class=\"data row4 col3\" >10</td>\n",
       "      <td id=\"T_fb504_row4_col4\" class=\"data row4 col4\" >84538.1</td>\n",
       "      <td id=\"T_fb504_row4_col5\" class=\"data row4 col5\" >83075.38</td>\n",
       "      <td id=\"T_fb504_row4_col6\" class=\"data row4 col6\" >82528.1</td>\n",
       "      <td id=\"T_fb504_row4_col7\" class=\"data row4 col7\" >0.05</td>\n",
       "      <td id=\"T_fb504_row4_col8\" class=\"data row4 col8\" >0.05</td>\n",
       "      <td id=\"T_fb504_row4_col9\" class=\"data row4 col9\" >7.17628741</td>\n",
       "      <td id=\"T_fb504_row4_col10\" class=\"data row4 col10\" >1</td>\n",
       "      <td id=\"T_fb504_row4_col11\" class=\"data row4 col11\" >id: 69b9ef3a-a644-4cba-b02e-c29cdeb665b0</td>\n",
       "      <td id=\"T_fb504_row4_col12\" class=\"data row4 col12\" >2025-01-09 00:02:55</td>\n",
       "    </tr>\n",
       "  </tbody>\n",
       "</table>\n"
      ]
     },
     "metadata": {},
     "output_type": "display_data"
    }
   ],
   "source": [
    "client.trade.get_closed_pnl(category=\"linear\")"
   ]
  }
 ],
 "metadata": {
  "kernelspec": {
   "display_name": "Python 3",
   "language": "python",
   "name": "python3"
  },
  "language_info": {
   "codemirror_mode": {
    "name": "ipython",
    "version": 3
   },
   "file_extension": ".py",
   "mimetype": "text/x-python",
   "name": "python",
   "nbconvert_exporter": "python",
   "pygments_lexer": "ipython3",
   "version": "3.12.4"
  }
 },
 "nbformat": 4,
 "nbformat_minor": 2
}
