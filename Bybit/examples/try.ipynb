{
 "cells": [
  {
   "cell_type": "code",
   "execution_count": 1,
   "metadata": {},
   "outputs": [],
   "source": [
    "import requests\n",
    "import time\n",
    "import hashlib\n",
    "import hmac\n",
    "import uuid\n",
    "import os"
   ]
  },
  {
   "cell_type": "code",
   "execution_count": 8,
   "metadata": {},
   "outputs": [],
   "source": [
    "def read_api_keys(test=0):\n",
    "    \n",
    "\tkey_file = 'AK.txt'\n",
    "    \n",
    "\tif test:\n",
    "\t\tkey_file= 'TAK.txt'\n",
    "    \n",
    "\tcurrent_dir = os.path.abspath(os.path.dirname(''))\n",
    "\tproj_dir = os.path.abspath(os.path.join(current_dir, '..', '..'))\n",
    "\t# proj_dir = os.path.dirname(os.path.abspath(__file__))\n",
    "    \n",
    "\tfile_path = os.path.join(proj_dir, key_file)\n",
    "    \n",
    "\tkeys = {}\n",
    "    \n",
    "\ttry:\n",
    "\t\twith open(file_path, 'r') as file:\n",
    "\t\t\tfor line in file:\n",
    "\t\t\t\tif '=' in line: \n",
    "\t\t\t\t\tkey, value = line.strip().split('=', 1)\n",
    "\t\t\t\t\tkeys[key] = value\n",
    "\n",
    "\texcept FileNotFoundError:\n",
    "\t\tprint(f\"Error: File not found at {file_path}\")\n",
    "\texcept Exception as e:\n",
    "\t\tprint(f\"Error: {e}\")\n",
    "\t\t\n",
    "\treturn keys\n",
    "\n",
    "keys = read_api_keys(test=1)\n",
    "public_key = keys.get('PUBLIC_KEY')\n",
    "private_key = keys.get('PRIVATE_KEY')\n"
   ]
  },
  {
   "cell_type": "code",
   "execution_count": 34,
   "metadata": {},
   "outputs": [],
   "source": [
    "httpClient=requests.Session()\n",
    "recv_window=str(5000)\t# Time limit for requests\n",
    "url=\"https://api-testnet.bybit.com\" # Testnet endpoint (Make sure using testnet api keys)\n",
    "\n",
    "def HTTP_Request(endPoint,method,payload,Info):\n",
    "    global time_stamp\n",
    "    time_stamp=str(int(time.time() * 10 ** 3))\n",
    "    signature=genSignature(payload)\n",
    "    headers = {\n",
    "        'X-BAPI-API-KEY': public_key,\n",
    "        'X-BAPI-SIGN': signature,\n",
    "        'X-BAPI-TIMESTAMP': time_stamp,\n",
    "        'X-BAPI-RECV-WINDOW': recv_window,\n",
    "    }\n",
    "    if(method==\"POST\"):\n",
    "        response = httpClient.request(method, url+endPoint, headers=headers, data=payload)\n",
    "    else:\n",
    "        response = httpClient.request(method, url+endPoint+\"?\"+payload, headers=headers)\n",
    "    \n",
    "    return response.json()\n",
    "\n",
    "def genSignature(payload):\n",
    "    param_str= str(time_stamp) + public_key + recv_window + payload\n",
    "    hash = hmac.new(bytes(private_key, \"utf-8\"), param_str.encode(\"utf-8\"),hashlib.sha256)\n",
    "    signature = hash.hexdigest()\n",
    "    return signature"
   ]
  },
  {
   "cell_type": "code",
   "execution_count": 45,
   "metadata": {},
   "outputs": [
    {
     "data": {
      "text/plain": [
       "{'retCode': 0,\n",
       " 'retMsg': 'OK',\n",
       " 'result': {'orderId': 'ce6d3129-e6a7-4811-ade2-42e81aa1afc8',\n",
       "  'orderLinkId': ''},\n",
       " 'retExtInfo': {},\n",
       " 'time': 1734949128996}"
      ]
     },
     "execution_count": 45,
     "metadata": {},
     "output_type": "execute_result"
    }
   ],
   "source": [
    "#Create Order\n",
    "endpoint=\"/v5/order/create\"\n",
    "method=\"POST\"\n",
    "params='{\"category\":\"linear\",\"symbol\": \"BTCUSDT\",\"side\": \"Buy\",\"positionIdx\": 0,\"orderType\": \"Limit\",\"qty\": \"0.001\",\"price\": \"10000\"}'\n",
    "HTTP_Request(endpoint,method,params,\"Create\")"
   ]
  },
  {
   "cell_type": "code",
   "execution_count": 46,
   "metadata": {},
   "outputs": [
    {
     "name": "stdout",
     "output_type": "stream",
     "text": [
      "[{'symbol': 'BTCUSDT', 'orderType': 'Limit', 'orderLinkId': '', 'slLimitPrice': '0', 'orderId': 'ce6d3129-e6a7-4811-ade2-42e81aa1afc8', 'cancelType': 'UNKNOWN', 'avgPrice': '', 'stopOrderType': '', 'lastPriceOnCreated': '94600', 'orderStatus': 'New', 'createType': 'CreateByUser', 'takeProfit': '', 'cumExecValue': '0', 'tpslMode': '', 'smpType': 'None', 'triggerDirection': 0, 'blockTradeId': '', 'isLeverage': '', 'rejectReason': 'EC_NoError', 'price': '10000', 'orderIv': '', 'createdTime': '1734949128996', 'tpTriggerBy': '', 'positionIdx': 0, 'timeInForce': 'GTC', 'leavesValue': '10', 'updatedTime': '1734949128999', 'side': 'Buy', 'smpGroup': 0, 'triggerPrice': '', 'tpLimitPrice': '0', 'cumExecFee': '0', 'leavesQty': '0.001', 'slTriggerBy': '', 'closeOnTrigger': False, 'placeType': '', 'cumExecQty': '0', 'reduceOnly': False, 'qty': '0.001', 'stopLoss': '', 'marketUnit': '', 'smpOrderId': '', 'triggerBy': ''}]\n"
     ]
    }
   ],
   "source": [
    "#Get unfilled Orders\n",
    "endpoint=\"/v5/order/realtime\"\n",
    "method=\"GET\"\n",
    "params='category=linear&settleCoin=USDT'\n",
    "response = HTTP_Request(endpoint,method,params,\"UnFilled\")\n",
    "print(response['result']['list'])\n",
    "order_id = response['result']['list'][0]['orderId']"
   ]
  },
  {
   "cell_type": "code",
   "execution_count": 47,
   "metadata": {},
   "outputs": [
    {
     "data": {
      "text/plain": [
       "{'retCode': 0,\n",
       " 'retMsg': 'OK',\n",
       " 'result': {'orderId': 'ce6d3129-e6a7-4811-ade2-42e81aa1afc8',\n",
       "  'orderLinkId': ''},\n",
       " 'retExtInfo': {},\n",
       " 'time': 1734949154740}"
      ]
     },
     "execution_count": 47,
     "metadata": {},
     "output_type": "execute_result"
    }
   ],
   "source": [
    "#Cancel Order\n",
    "endpoint=\"/v5/order/cancel\"\n",
    "method=\"POST\"\n",
    "params='{\"category\":\"linear\",\"symbol\": \"BTCUSDT\",\"orderId\": \"'+order_id+'\"}'\n",
    "HTTP_Request(endpoint,method,params,\"Cancel\")"
   ]
  }
 ],
 "metadata": {
  "kernelspec": {
   "display_name": "Python 3",
   "language": "python",
   "name": "python3"
  },
  "language_info": {
   "codemirror_mode": {
    "name": "ipython",
    "version": 3
   },
   "file_extension": ".py",
   "mimetype": "text/x-python",
   "name": "python",
   "nbconvert_exporter": "python",
   "pygments_lexer": "ipython3",
   "version": "3.9.13"
  }
 },
 "nbformat": 4,
 "nbformat_minor": 2
}
